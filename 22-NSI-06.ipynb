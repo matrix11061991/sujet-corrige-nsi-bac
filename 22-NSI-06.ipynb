{
 "cells": [
  {
   "cell_type": "markdown",
   "metadata": {},
   "source": [
    "---\n",
    "\n",
    "# <p style=\"text-align: center;\">  BACCALAUREAT SESSION 2022 </p>\n",
    "### <p style=\"text-align: center;\">Épreuve de l’enseignement de spécialité - NUMERIQUE et SCIENCES INFORMATIQUES </p>\n",
    "<p style=\"text-align: center;\"> <strong> Partie pratique Classe Terminale de la voie générale </strong> </p>\n",
    "\n",
    "<p style=\"text-align: center;\"> <strong>Sujet n°6 </strong>"
   ]
  },
  {
   "cell_type": "markdown",
   "metadata": {},
   "source": [
    "## EXERCICE 1 (4 points) "
   ]
  },
  {
   "cell_type": "markdown",
   "metadata": {},
   "source": [
    "&nbsp;<br>\n",
    "&nbsp;<br>\n",
    "Écrire&nbsp;une&nbsp;fonction&nbsp;maxi&nbsp;qui&nbsp;prend&nbsp;en&nbsp;paramètre&nbsp;une&nbsp;liste&nbsp;tab&nbsp;de&nbsp;nombres&nbsp;entiers&nbsp;et&nbsp;qui&nbsp;<br>\n",
    "renvoie&nbsp;un&nbsp;couple&nbsp;donnant&nbsp;le&nbsp;plus&nbsp;grand&nbsp;élément&nbsp;de&nbsp;cette&nbsp;liste&nbsp;ainsi&nbsp;que&nbsp;l’indice&nbsp;de&nbsp;la&nbsp;<br>\n",
    "première&nbsp;apparition&nbsp;de&nbsp;ce&nbsp;maximum&nbsp;dans&nbsp;la&nbsp;liste.&nbsp;<br>\n",
    "Exemple&nbsp;:&nbsp;<br>\n",
    "&gt;&gt;&gt;&nbsp;maxi([1,5,6,9,1,2,3,7,9,8])&nbsp;<br>\n",
    "(9,3)&nbsp;<br>\n",
    "&nbsp;<br>\n",
    "&nbsp;<br>\n",
    "&nbsp;<br>\n",
    "<br>\n"
   ]
  },
  {
   "cell_type": "code",
   "execution_count": 1,
   "metadata": {},
   "outputs": [
    {
     "data": {
      "text/plain": [
       "(9, 3)"
      ]
     },
     "execution_count": 1,
     "metadata": {},
     "output_type": "execute_result"
    }
   ],
   "source": [
    "def maxi(tab):\n",
    "    max_val = tab[0]\n",
    "    max_index = 0\n",
    "    for i, val in enumerate(tab):\n",
    "        if val > max_val:\n",
    "            max_val = val\n",
    "            max_index = i\n",
    "    return (max_val, max_index)"
   ]
  },
  {
   "cell_type": "markdown",
   "metadata": {},
   "source": [
    "Afficher la solution<style>\n",
    "def maxi(tab):\n",
    "    m = tab[0]\n",
    "    indice = 0\n",
    "    i = 0\n",
    "    for v in tab:\n",
    "        if v > m:\n",
    "            m = v\n",
    "            indice = i\n",
    "        i = i + 1\n",
    "    return (m,indice)\n",
    "\n",
    "</style>"
   ]
  },
  {
   "cell_type": "markdown",
   "metadata": {},
   "source": [
    "## EXERCICE 2 (4 points) "
   ]
  },
  {
   "cell_type": "markdown",
   "metadata": {},
   "source": [
    "&nbsp;<br>\n",
    "La&nbsp;fonction&nbsp;recherche&nbsp;prend&nbsp;en&nbsp;paramètres&nbsp;deux&nbsp;chaines&nbsp;de&nbsp;caractères&nbsp;gene&nbsp;et&nbsp;&nbsp;<br>\n",
    "seq_adn&nbsp;et&nbsp;renvoie&nbsp;True&nbsp;si&nbsp;on&nbsp;retrouve&nbsp;gene&nbsp;dans&nbsp;seq_adn&nbsp;et&nbsp;False&nbsp;sinon.&nbsp;<br>\n",
    "Compléter&nbsp;le&nbsp;code&nbsp;Python&nbsp;ci-dessous&nbsp;pour&nbsp;qu’il&nbsp;implémente&nbsp;la&nbsp;fonction&nbsp;recherche.&nbsp;<br>\n",
    "&nbsp;<br>\n",
    "def&nbsp;recherche(gene,&nbsp;seq_adn):&nbsp;<br>\n",
    "&nbsp;&nbsp;&nbsp;&nbsp;n&nbsp;=&nbsp;len(seq_adn)&nbsp;<br>\n",
    "&nbsp;&nbsp;&nbsp;&nbsp;g&nbsp;=&nbsp;len(gene)&nbsp;<br>\n",
    "&nbsp;&nbsp;&nbsp;&nbsp;i&nbsp;=&nbsp;...&nbsp;<br>\n",
    "&nbsp;&nbsp;&nbsp;&nbsp;trouve&nbsp;=&nbsp;False&nbsp;<br>\n",
    "&nbsp;&nbsp;&nbsp;&nbsp;while&nbsp;i&nbsp;&lt;&nbsp;...&nbsp;and&nbsp;trouve&nbsp;==&nbsp;...&nbsp;:&nbsp;<br>\n",
    "&nbsp;&nbsp;&nbsp;&nbsp;&nbsp;&nbsp;&nbsp;&nbsp;j&nbsp;=&nbsp;0&nbsp;<br>\n",
    "&nbsp;&nbsp;&nbsp;&nbsp;&nbsp;&nbsp;&nbsp;&nbsp;while&nbsp;j&nbsp;&lt;&nbsp;g&nbsp;and&nbsp;gene[j]&nbsp;==&nbsp;seq_adn[i+j]:&nbsp;<br>\n",
    "&nbsp;&nbsp;&nbsp;&nbsp;&nbsp;&nbsp;&nbsp;&nbsp;&nbsp;&nbsp;&nbsp;&nbsp;...&nbsp;<br>\n",
    "&nbsp;&nbsp;&nbsp;&nbsp;&nbsp;&nbsp;&nbsp;&nbsp;if&nbsp;j&nbsp;==&nbsp;g:&nbsp;<br>\n",
    "&nbsp;&nbsp;&nbsp;&nbsp;&nbsp;&nbsp;&nbsp;&nbsp;&nbsp;&nbsp;&nbsp;&nbsp;trouve&nbsp;=&nbsp;True&nbsp;<br>\n",
    "&nbsp;&nbsp;&nbsp;&nbsp;&nbsp;&nbsp;&nbsp;&nbsp;...&nbsp;<br>\n",
    "&nbsp;&nbsp;&nbsp;&nbsp;return&nbsp;trouve&nbsp;<br>\n",
    "&nbsp;<br>\n",
    "Exemples&nbsp;:&nbsp;<br>\n",
    "&gt;&gt;&gt;&nbsp;recherche(\"AATC\",&nbsp;\"GTACAAATCTTGCC\")&nbsp;<br>\n",
    "True&nbsp;<br>\n",
    "&gt;&gt;&gt;&nbsp;recherche(\"AGTC\",&nbsp;\"GTACAAATCTTGCC\")&nbsp;<br>\n",
    "False&nbsp;<br>\n",
    "&nbsp;<br>\n",
    "<br>\n"
   ]
  },
  {
   "cell_type": "code",
   "execution_count": 5,
   "metadata": {
    "scrolled": false
   },
   "outputs": [],
   "source": [
    "def recherche(gene, seq_adn):\n",
    "    n = len(seq_adn)\n",
    "    g = len(gene)\n",
    "    i = 0\n",
    "    trouve = False\n",
    "    while i < n-g+1 and trouve == False :\n",
    "        j = 0\n",
    "        while j < g and gene[j] == seq_adn[i+j]:\n",
    "            j += 1\n",
    "        if j == g:\n",
    "            trouve = True\n",
    "        i += 1\n",
    "    return trouve"
   ]
  },
  {
   "cell_type": "markdown",
   "metadata": {},
   "source": [
    "Afficher la solution<style>\n",
    "def recherche(gene, seq_adn):\n",
    "    n = len(seq_adn)\n",
    "    g = len(gene)\n",
    "    i = 0\n",
    "    trouve = False\n",
    "    while i < n and trouve == False :\n",
    "        j = 0\n",
    "        while j < g and gene[j] == seq_adn[i+j]:\n",
    "            j = j + 1\n",
    "        if j == g:\n",
    "            trouve = True\n",
    "        i = i + 1\n",
    "    return trouve\n",
    "\n",
    "</style>"
   ]
  }
 ],
 "metadata": {
  "jupytext": {
   "encoding": "# -*- coding: utf-8 -*-",
   "main_language": "python"
  },
  "kernelspec": {
   "display_name": "Python 3 (ipykernel)",
   "language": "python",
   "name": "python3"
  },
  "language_info": {
   "codemirror_mode": {
    "name": "ipython",
    "version": 3
   },
   "file_extension": ".py",
   "mimetype": "text/x-python",
   "name": "python",
   "nbconvert_exporter": "python",
   "pygments_lexer": "ipython3",
   "version": "3.10.4"
  },
  "nbreset": "https://github.com/INRIA/scikit-learn-mooc/raw/main/notebooks/03_categorical_pipeline_ex_01.ipynb"
 },
 "nbformat": 4,
 "nbformat_minor": 2
}
