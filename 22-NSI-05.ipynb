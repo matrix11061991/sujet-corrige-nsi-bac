{
 "cells": [
  {
   "cell_type": "markdown",
   "metadata": {},
   "source": [
    "---\n",
    "\n",
    "# <p style=\"text-align: center;\">  BACCALAUREAT SESSION 2022 </p>\n",
    "### <p style=\"text-align: center;\">Épreuve de l’enseignement de spécialité - NUMERIQUE et SCIENCES INFORMATIQUES </p>\n",
    "<p style=\"text-align: center;\"> <strong> Partie pratique Classe Terminale de la voie générale </strong> </p>\n",
    "\n",
    "<p style=\"text-align: center;\"> <strong>Sujet n°5 </strong>"
   ]
  },
  {
   "cell_type": "markdown",
   "metadata": {},
   "source": [
    "## EXERCICE 1 (4 points) "
   ]
  },
  {
   "cell_type": "markdown",
   "metadata": {},
   "source": [
    "Écrire&nbsp;une&nbsp;fonction **RechercheMinMax**; qui&nbsp;prend&nbsp;en&nbsp;paramètre&nbsp;un&nbsp;tableau&nbsp;de&nbsp;nombres&nbsp; non&nbsp;triés&nbsp;tab,&nbsp;et&nbsp;qui&nbsp;renvoie&nbsp;la&nbsp;plus&nbsp;petite&nbsp;et&nbsp;la&nbsp;plus&nbsp;grande&nbsp;valeur&nbsp;du&nbsp;tableau&nbsp;sous&nbsp;la&nbsp;<br>\n",
    "forme&nbsp;d’un&nbsp;dictionnaire&nbsp;à&nbsp;deux&nbsp;clés&nbsp;‘min’&nbsp;et&nbsp;‘max’.&nbsp;Les&nbsp;tableaux&nbsp;seront&nbsp;représentés&nbsp;sous&nbsp;<br>\n",
    "forme&nbsp;de&nbsp;liste&nbsp;Python.&nbsp;<br>\n",
    "&nbsp;<br>\n",
    "Exemples&nbsp;:&nbsp;<br>\n",
    "&gt;&gt;&gt;&nbsp;tableau&nbsp;=&nbsp;[0,&nbsp;1,&nbsp;4,&nbsp;2,&nbsp;-2,&nbsp;9,&nbsp;3,&nbsp;1,&nbsp;7,&nbsp;1]&nbsp;<br>\n",
    "&gt;&gt;&gt;&nbsp;resultat&nbsp;=&nbsp;rechercheMinMax(tableau)&nbsp;<br>\n",
    "&gt;&gt;&gt;&nbsp;resultat&nbsp;<br>\n",
    "{'min':&nbsp;-2,&nbsp;'max':&nbsp;9}&nbsp;<br>\n",
    "&nbsp;<br>\n",
    "&gt;&gt;&gt;&nbsp;tableau&nbsp;=&nbsp;[]&nbsp;<br>\n",
    "&gt;&gt;&gt;&nbsp;resultat&nbsp;=&nbsp;rechercheMinMax(tableau)&nbsp;<br>\n",
    "&gt;&gt;&gt;&nbsp;resultat&nbsp;<br>\n",
    "{'min':&nbsp;None,&nbsp;'max':&nbsp;None}&nbsp;<br>\n",
    "&nbsp;<br>\n"
   ]
  },
  {
   "cell_type": "code",
   "execution_count": null,
   "metadata": {},
   "outputs": [],
   "source": [
    "#Tester votre code ici\n"
   ]
  },
  {
   "cell_type": "markdown",
   "metadata": {},
   "source": [
    "Afficher la solution<style>\n",
    "def rechercheMinMax(tab):\n",
    "    if len(tab)==0:\n",
    "        return {'min':None, 'max':None}\n",
    "    mini = tab[0]\n",
    "    maxi = tab[0]\n",
    "    for v in tab :\n",
    "        if v > maxi:\n",
    "            maxi = v\n",
    "        if v < mini :\n",
    "            mini = v\n",
    "    return {'min':mini, 'max':maxi}\n",
    "</style>"
   ]
  },
  {
   "cell_type": "markdown",
   "metadata": {},
   "source": [
    "## EXERCICE 2 (4 points) "
   ]
  },
  {
   "cell_type": "markdown",
   "metadata": {},
   "source": [
    "&nbsp;<br>\n",
    "On&nbsp;dispose&nbsp;d’un&nbsp;programme&nbsp;permettant&nbsp;de&nbsp;créer&nbsp;un&nbsp;objet&nbsp;de&nbsp;type&nbsp;PaquetDeCarte,&nbsp;<br>\n",
    "selon&nbsp;les&nbsp;éléments&nbsp;indiqués&nbsp;dans&nbsp;le&nbsp;code&nbsp;ci-dessous.&nbsp;<br>\n",
    "Compléter&nbsp;ce&nbsp;code&nbsp;aux&nbsp;endroits&nbsp;indiqués&nbsp;par&nbsp;???&nbsp;puis&nbsp;ajouter&nbsp;des&nbsp;assertions&nbsp;dans&nbsp;<br>\n",
    "l’initialiseur&nbsp;de&nbsp;Carte,&nbsp;ainsi&nbsp;que&nbsp;dans&nbsp;la&nbsp;méthode&nbsp;getCarteAt().&nbsp;<br>\n",
    "class&nbsp;Carte:&nbsp;<br>\n",
    "&nbsp;&nbsp;&nbsp;&nbsp;\"\"\"Initialise&nbsp;Couleur&nbsp;(entre&nbsp;1&nbsp;à&nbsp;4),&nbsp;et&nbsp;Valeur&nbsp;(entre&nbsp;1&nbsp;à&nbsp;<br>\n",
    "13)\"\"\"&nbsp;<br>\n",
    "&nbsp;&nbsp;&nbsp;&nbsp;def&nbsp;__init__(self,&nbsp;c,&nbsp;v):&nbsp;<br>\n",
    "&nbsp;&nbsp;&nbsp;&nbsp;&nbsp;&nbsp;&nbsp;&nbsp;self.Couleur&nbsp;=&nbsp;c&nbsp;<br>\n",
    "&nbsp;&nbsp;&nbsp;&nbsp;&nbsp;&nbsp;&nbsp;&nbsp;self.Valeur&nbsp;=&nbsp;v&nbsp;<br>\n",
    "&nbsp;<br>\n",
    "&nbsp;&nbsp;&nbsp;&nbsp;\"\"\"Renvoie&nbsp;le&nbsp;nom&nbsp;de&nbsp;la&nbsp;Carte&nbsp;As,&nbsp;2,&nbsp;...&nbsp;10,&nbsp;&nbsp;<br>\n",
    "&nbsp;&nbsp;&nbsp;&nbsp;&nbsp;&nbsp;&nbsp;Valet,&nbsp;Dame,&nbsp;Roi\"\"\"&nbsp;<br>\n",
    "&nbsp;&nbsp;&nbsp;&nbsp;def&nbsp;getNom(self):&nbsp;<br>\n",
    "&nbsp;&nbsp;&nbsp;&nbsp;&nbsp;&nbsp;&nbsp;&nbsp;if&nbsp;(&nbsp;self.Valeur&nbsp;&gt;&nbsp;1&nbsp;and&nbsp;self.Valeur&nbsp;&lt;&nbsp;11):&nbsp;<br>\n",
    "&nbsp;&nbsp;&nbsp;&nbsp;&nbsp;&nbsp;&nbsp;&nbsp;&nbsp;&nbsp;&nbsp;&nbsp;return&nbsp;str(&nbsp;self.Valeur)&nbsp;<br>\n",
    "&nbsp;&nbsp;&nbsp;&nbsp;&nbsp;&nbsp;&nbsp;&nbsp;elif&nbsp;self.Valeur&nbsp;==&nbsp;11:&nbsp;<br>\n",
    "&nbsp;&nbsp;&nbsp;&nbsp;&nbsp;&nbsp;&nbsp;&nbsp;&nbsp;&nbsp;&nbsp;&nbsp;return&nbsp;\"Valet\"&nbsp;<br>\n",
    "&nbsp;&nbsp;&nbsp;&nbsp;&nbsp;&nbsp;&nbsp;&nbsp;elif&nbsp;self.Valeur&nbsp;==&nbsp;12:&nbsp;<br>\n",
    "&nbsp;&nbsp;&nbsp;&nbsp;&nbsp;&nbsp;&nbsp;&nbsp;&nbsp;&nbsp;&nbsp;&nbsp;return&nbsp;\"Dame\"&nbsp;<br>\n",
    "&nbsp;&nbsp;&nbsp;&nbsp;&nbsp;&nbsp;&nbsp;&nbsp;elif&nbsp;self.Valeur&nbsp;==&nbsp;13:&nbsp;<br>\n",
    "&nbsp;&nbsp;&nbsp;&nbsp;&nbsp;&nbsp;&nbsp;&nbsp;&nbsp;&nbsp;&nbsp;&nbsp;return&nbsp;\"Roi\"&nbsp;<br>\n",
    "&nbsp;&nbsp;&nbsp;&nbsp;&nbsp;&nbsp;&nbsp;&nbsp;else:&nbsp;<br>\n",
    "&nbsp;&nbsp;&nbsp;&nbsp;&nbsp;&nbsp;&nbsp;&nbsp;&nbsp;&nbsp;&nbsp;&nbsp;return&nbsp;\"As\"&nbsp;<br>\n",
    "&nbsp;<br>\n",
    "&nbsp;&nbsp;&nbsp;&nbsp;\"\"\"Renvoie&nbsp;la&nbsp;couleur&nbsp;de&nbsp;la&nbsp;Carte&nbsp;(parmi&nbsp;pique,&nbsp;coeur,&nbsp;<br>\n",
    "carreau,&nbsp;trefle\"\"\"&nbsp;<br>\n",
    "&nbsp;&nbsp;&nbsp;&nbsp;def&nbsp;getCouleur(self):&nbsp;<br>\n",
    "&nbsp;&nbsp;&nbsp;&nbsp;&nbsp;&nbsp;&nbsp;&nbsp;return&nbsp;['pique',&nbsp;'coeur',&nbsp;'carreau',&nbsp;'trefle'&nbsp;<br>\n",
    "][self.Couleur&nbsp;-&nbsp;1]&nbsp;<br>\n",
    "&nbsp;<br>\n",
    "class&nbsp;PaquetDeCarte:&nbsp;<br>\n",
    "&nbsp;&nbsp;&nbsp;&nbsp;def&nbsp;__init__(self):&nbsp;<br>\n",
    "&nbsp;&nbsp;&nbsp;&nbsp;&nbsp;&nbsp;&nbsp;&nbsp;self.contenu&nbsp;=&nbsp;[]&nbsp;<br>\n",
    "&nbsp;<br>\n",
    "&nbsp;&nbsp;&nbsp;&nbsp;\"\"\"Remplit&nbsp;le&nbsp;paquet&nbsp;de&nbsp;cartes\"\"\"&nbsp;<br>\n",
    "&nbsp;&nbsp;&nbsp;&nbsp;def&nbsp;remplir(self):&nbsp;<br>\n",
    "&nbsp;<br>\n",
    "???&nbsp;=&nbsp;[&nbsp;???&nbsp;for&nbsp;couleur&nbsp;in&nbsp;range(1,&nbsp;???)&nbsp;for&nbsp;valeur&nbsp;in&nbsp;<br>\n",
    "range(&nbsp;1,&nbsp;???)]&nbsp;<br>\n",
    "&nbsp;<br>\n",
    "&nbsp;&nbsp;&nbsp;&nbsp;\"\"\"Renvoie&nbsp;la&nbsp;Carte&nbsp;qui&nbsp;se&nbsp;trouve&nbsp;à&nbsp;la&nbsp;position&nbsp;donnée\"\"\"&nbsp;<br>\n",
    "&nbsp;&nbsp;&nbsp;&nbsp;def&nbsp;getCarteAt(self,&nbsp;pos):&nbsp;<br>\n",
    "&nbsp;&nbsp;&nbsp;&nbsp;&nbsp;&nbsp;&nbsp;&nbsp;&nbsp;if&nbsp;0&nbsp;&lt;=&nbsp;pos&nbsp;&lt;&nbsp;???&nbsp;:&nbsp;<br>\n",
    "&nbsp;&nbsp;&nbsp;&nbsp;&nbsp;&nbsp;&nbsp;&nbsp;&nbsp;&nbsp;&nbsp;&nbsp;return&nbsp;???&nbsp;<br>\n",
    "\n",
    "Exemple&nbsp;:&nbsp;&nbsp;<br>\n",
    "&gt;&gt;&gt;&nbsp;unPaquet&nbsp;=&nbsp;PaquetDeCarte()&nbsp;<br>\n",
    "&gt;&gt;&gt;&nbsp;unPaquet.remplir()&nbsp;<br>\n",
    "&gt;&gt;&gt;&nbsp;uneCarte&nbsp;=&nbsp;unPaquet.getCarteAt(20)&nbsp;<br>\n",
    "&gt;&gt;&gt;&nbsp;print(uneCarte.getNom()&nbsp;+&nbsp;\"&nbsp;de&nbsp;\"&nbsp;+&nbsp;uneCarte.getCouleur())&nbsp;<br>\n",
    "8&nbsp;de&nbsp;coeur&nbsp;&nbsp;<br>\n",
    "\n"
   ]
  },
  {
   "cell_type": "code",
   "execution_count": null,
   "metadata": {
    "scrolled": false
   },
   "outputs": [],
   "source": [
    "class Carte:\n",
    "    \"\"\"Initialise Couleur (entre 1 a 4), et Valeur (entre 1 a 13)\"\"\"\n",
    "    def __init__(self, c, v):\n",
    "        self.Couleur = c\n",
    "        self.Valeur = v\n",
    "\n",
    "    \"\"\"Renvoie le nom de la Carte As, 2, ... 10, \n",
    "       Valet, Dame, Roi\"\"\"\n",
    "    def getNom(self):\n",
    "        if ( self.Valeur > 1 and self.Valeur < 11):\n",
    "            return str( self.Valeur)\n",
    "        elif self.Valeur == 11:\n",
    "            return \"Valet\"\n",
    "        elif self.Valeur == 12:\n",
    "            return \"Dame\"\n",
    "        elif self.Valeur == 13:\n",
    "            return \"Roi\"\n",
    "        else:\n",
    "            return \"As\"\n",
    "\n",
    "    \"\"\"Renvoie la couleur de la Carte (parmi pique, coeur, carreau, trefle\"\"\"\n",
    "    def getCouleur(self):\n",
    "        return ['pique', 'coeur', 'carreau', 'trefle' ][self.Couleur - 1]\n",
    "\n",
    "class PaquetDeCarte:\n",
    "    def __init__(self):\n",
    "        self.contenu = []\n",
    "\n",
    "    \"\"\"Remplit le paquet de cartes\"\"\"\n",
    "    def remplir(self):\n",
    "\t??? = [ ??? for couleur in range(1, ???) for valeur in range( 1, ???)]\n",
    "\n",
    "    \"\"\"Renvoie la Carte qui se trouve a la position donnee\"\"\"\n",
    "    def getCarteAt(self, pos):\n",
    "        if 0 <= pos < ??? :\n",
    "            return ???\n"
   ]
  },
  {
   "cell_type": "markdown",
   "metadata": {},
   "source": [
    "La solution"
   ]
  },
  {
   "cell_type": "code",
   "execution_count": 1,
   "metadata": {},
   "outputs": [],
   "source": [
    "class Carte:\n",
    "    \"\"\"Initialise Couleur (entre 1 a 4), et Valeur (entre 1 a 13)\"\"\"\n",
    "    def __init__(self, c, v):\n",
    "        self.Couleur = c\n",
    "        self.Valeur = v\n",
    "\n",
    "    \"\"\"Renvoie le nom de la Carte As, 2, ... 10, \n",
    "       Valet, Dame, Roi\"\"\"\n",
    "    def getNom(self):\n",
    "        if ( self.Valeur > 1 and self.Valeur < 11):\n",
    "            return str( self.Valeur)\n",
    "        elif self.Valeur == 11:\n",
    "            return \"Valet\"\n",
    "        elif self.Valeur == 12:\n",
    "            return \"Dame\"\n",
    "        elif self.Valeur == 13:\n",
    "            return \"Roi\"\n",
    "        else:\n",
    "            return \"As\"\n",
    "\n",
    "    \"\"\"Renvoie la couleur de la Carte (parmi pique, coeur, carreau, trefle\"\"\"\n",
    "    def getCouleur(self):\n",
    "        return ['pique', 'coeur', 'carreau', 'trefle' ][self.Couleur - 1]\n",
    "\n",
    "class PaquetDeCarte:\n",
    "    def __init__(self):\n",
    "        self.contenu = []\n",
    "\n",
    "    \"\"\"Remplit le paquet de cartes\"\"\"\n",
    "    def remplir(self):\n",
    "        self.contenu = [ Carte(couleur, valeur) for couleur in range(1, 5) for valeur in range( 1, 14)]\n",
    "\n",
    "    \"\"\"Renvoie la Carte qui se trouve aï¿½ la position donnee\"\"\"\n",
    "    def getCarteAt(self, pos):\n",
    "        if 0 <= pos < 52 :\n",
    "            return self.contenu[pos]"
   ]
  },
  {
   "cell_type": "code",
   "execution_count": null,
   "metadata": {},
   "outputs": [],
   "source": []
  }
 ],
 "metadata": {
  "jupytext": {
   "encoding": "# -*- coding: utf-8 -*-",
   "main_language": "python"
  },
  "kernelspec": {
   "display_name": "Python 3 (ipykernel)",
   "language": "python",
   "name": "python3"
  },
  "language_info": {
   "codemirror_mode": {
    "name": "ipython",
    "version": 3
   },
   "file_extension": ".py",
   "mimetype": "text/x-python",
   "name": "python",
   "nbconvert_exporter": "python",
   "pygments_lexer": "ipython3",
   "version": "3.10.4"
  },
  "nbreset": "https://github.com/INRIA/scikit-learn-mooc/raw/main/notebooks/03_categorical_pipeline_ex_01.ipynb"
 },
 "nbformat": 4,
 "nbformat_minor": 2
}
